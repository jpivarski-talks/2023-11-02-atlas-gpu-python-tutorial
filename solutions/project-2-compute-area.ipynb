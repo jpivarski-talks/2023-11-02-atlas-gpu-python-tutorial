{
 "cells": [
  {
   "cell_type": "markdown",
   "id": "3df1b97b-6434-4dd0-a935-fd3b1955cf16",
   "metadata": {},
   "source": [
    "# Project 2 solution: computing area by random sampling"
   ]
  },
  {
   "cell_type": "markdown",
   "id": "5fd5441e-defe-44d2-bb01-25c5be4eceba",
   "metadata": {},
   "source": [
    "## Problem statement"
   ]
  },
  {
   "cell_type": "markdown",
   "id": "d523e5fd-ed86-4292-9d05-4c1d38c8159e",
   "metadata": {},
   "source": [
    "**Goal:** Sample random number pairs $x \\in (-1, 1)$, $y \\in (-1, 1)$ with a uniform distribution to compute the area of a circle with radius $r = 1$. Then use the area $A = \\pi r^2$ formula to derive $\\pi$.\n",
    "\n",
    "* How does the accuracy depend on number of sampled pairs?\n",
    "* What about the computation time?\n",
    "\n",
    "**Stretch goal:** Use the same technique to compute the area of the Mandelbrot set. The Mandelbrot set is the set of complex numbers $c \\in \\Bbb{C}$ such that the sequence $z_0 = 0$, $z_{n+1} = {z_n}^2 + c$ does not diverge to infinity as $n \\to \\infty$.\n",
    "\n",
    "The following CUDA device function identifies whether a point $c = x + y\\,i$ ($x \\in \\Bbb{R}$, $y \\in \\Bbb{R}$, $i = \\sqrt{-1}$) is in the Mandelbrot set, using [Floyd's algorithm](https://en.wikipedia.org/wiki/Cycle_detection#Floyd's_tortoise_and_hare) to detect cycles and convergence to zero.\n",
    "\n",
    "```python\n",
    "@nb.cuda.jit(device=True)\n",
    "def is_in_mandelbrot(x, y):\n",
    "    c = np.complex64(x) + np.complex64(y)*np.complex64(1j)\n",
    "    z_hare = z_tortoise = np.complex64(0)\n",
    "    while True:\n",
    "        z_hare = z_hare*z_hare + c\n",
    "        z_hare = z_hare*z_hare + c\n",
    "        z_tortoise = z_tortoise*z_tortoise + c\n",
    "        if z_hare == z_tortoise:\n",
    "            return True      # orbiting or converging to zero\n",
    "        if z_hare.real**2 + z_hare.imag**2 > 4:\n",
    "            return False     # diverging to infinity\n",
    "```\n",
    "\n",
    "You can assume that the Mandelbrot set is entirely contained within $x \\in (-2, 1)$, $y \\in (-\\frac{3}{2}, \\frac{3}{2})$, which has area $9$ (see [[Knill (2023)](https://doi.org/10.48550/arXiv.2305.17848)], section 4.7).\n",
    "\n",
    "The exact area of the Mandelbrot set is not known, mathematically. There is an expression,\n",
    "\n",
    "$$\\mbox{area of Mandelbrot set} = \\pi \\left( 1 - \\sum_{n=1}^\\infty n \\, {b_n}^2 \\right)$$\n",
    "\n",
    "in which the terms $b_n$ can be determined recursively, but it converges very slowly: $10^{118}$ terms are needed to get the first 2 digits, and $10^{1181}$ terms are needed to get 3 digits [[Ewing & Schober (1992)](https://doi.org/10.1007/BF01385497)]. The best estimates of the Mandelbrot set's area come from sampling techniques like this one. The most recent publication is [[Bittner, Cheong, Gates, & Nguyen (2012)](https://doi.org/10.2140/involve.2017.10.555)] and the most recent unpublished estimate is [[Förstemann (2017)](https://www.foerstemann.name/labor.html)] using 2× Radeon HD 5970 and a tree-splitting (rather than random) search. The most precise, rigorous bounds to date are\n",
    "\n",
    "$$1.50640 < \\mbox{area of Mandelbrot set} < 1.53121\\mbox{.}$$\n",
    "\n",
    "If you're interested in this sort of thing, Robert Munafo wrote a [rabbit warren of hyperlinked pages](http://www.mrob.com/pub/muency/areaofthemandelbrotset.html) about all of the techniques in 2003, from a [Usenet thread (alt.fractals)](https://ics.uci.edu/~eppstein/junkyard/mand-area.html) that started exactly 5 days after the [first release of Python (alt.sources)](https://www.tuhs.org/Usenet/alt.sources/1991-February/001749.html). Weird, huh?"
   ]
  },
  {
   "cell_type": "markdown",
   "id": "a4735082-29fe-4ff2-937b-27a8bcf97cbc",
   "metadata": {},
   "source": [
    "<br><br><br><br><br>"
   ]
  },
  {
   "cell_type": "markdown",
   "id": "5dae3fd0-6b85-4ee1-8e75-61105596c2ff",
   "metadata": {},
   "source": [
    "## Computing π from the area of a circle"
   ]
  },
  {
   "cell_type": "markdown",
   "id": "d742e382-1bbe-4ba1-9bfe-5f86240550d1",
   "metadata": {},
   "source": [
    "### Initial exploration"
   ]
  },
  {
   "cell_type": "markdown",
   "id": "8419e0be-d3aa-444e-8a69-ac7b561c4394",
   "metadata": {},
   "source": [
    "If we try to jump directly to the solution, the final area estimate, we're likely to make a mistake and get something like zero or an area that does not converge as the number of samples increases. (_I_ am, anyway.) Usually, this is because of mistakes like cutting off the region of interest, getting $x$ and $y$ as the same value, or failing to fill the output buffer.\n",
    "\n",
    "Most of these types of mistakes can be caught by looking at the random samples before attempting to compute an area, so let's start with that."
   ]
  },
  {
   "cell_type": "code",
   "execution_count": null,
   "id": "5f089ac8-c2be-4517-b62a-5712f639681f",
   "metadata": {},
   "outputs": [],
   "source": [
    "import matplotlib.pyplot as plt\n",
    "import numpy as np\n",
    "import cupy as cp\n",
    "import numba.cuda\n",
    "import numba as nb"
   ]
  },
  {
   "cell_type": "markdown",
   "id": "4beafcb9-cb96-43a0-ab63-8115040a3123",
   "metadata": {},
   "source": [
    "As described in the lecture, we need to be careful about propagating random seeds. The [`xoroshiro128p` functions](https://numba.readthedocs.io/en/stable/cuda/random.html) in Numba (and [`curand*` functions](https://docs.nvidia.com/cuda/curand/device-api-overview.html#pseudorandom-sequences) in C++ CUDA) do that.\n",
    "\n",
    "We will want to generate _uniform_ distributions, and we can use 32-bit floats. Also as discussed in the lecture, we can use Python's [`os.urandom` function](https://docs.python.org/3/library/os.html#os.urandom) to set a starting seed."
   ]
  },
  {
   "cell_type": "code",
   "execution_count": null,
   "id": "fa6e1863-65e7-42b2-b189-0977535df213",
   "metadata": {},
   "outputs": [],
   "source": [
    "import os\n",
    "from numba.cuda.random import create_xoroshiro128p_states, xoroshiro128p_uniform_float32\n",
    "\n",
    "def starting_seed():\n",
    "    return np.array(os.urandom(8)).view(np.uint64)"
   ]
  },
  {
   "cell_type": "markdown",
   "id": "436cdcad-7bba-4f96-b9fa-e9961f086c27",
   "metadata": {},
   "source": [
    "The first attempt should only fill an output array with $x$, $y$ pairs so that we can look at them and confirm that they look uniform on the range we expect."
   ]
  },
  {
   "cell_type": "code",
   "execution_count": null,
   "id": "d4cffd93-3937-45d2-a11b-7d10331e8095",
   "metadata": {},
   "outputs": [],
   "source": [
    "@nb.cuda.jit\n",
    "def fill_dots(rng_states, outx, outy):\n",
    "    thread_idx = nb.cuda.grid(1)\n",
    "    x = xoroshiro128p_uniform_float32(rng_states, thread_idx)\n",
    "    y = xoroshiro128p_uniform_float32(rng_states, thread_idx)\n",
    "    outx[thread_idx] = x\n",
    "    outy[thread_idx] = y"
   ]
  },
  {
   "cell_type": "markdown",
   "id": "ae02bd4d-6dbf-4c69-8368-7169ffd7a37d",
   "metadata": {},
   "source": [
    "Since this is exploratory, use a very small number of points.\n",
    "\n",
    "Run this a few times to see the random numbers change."
   ]
  },
  {
   "cell_type": "code",
   "execution_count": null,
   "id": "c962e761-f737-4bf9-821c-9bed0fb41949",
   "metadata": {},
   "outputs": [],
   "source": [
    "num_threads = 100\n",
    "num_blocks = 1\n",
    "\n",
    "rng_states = create_xoroshiro128p_states(num_threads * num_blocks, seed=starting_seed())\n",
    "\n",
    "outx = cp.zeros(num_threads * num_blocks, dtype=np.float32)\n",
    "outy = cp.zeros(num_threads * num_blocks, dtype=np.float32)\n",
    "\n",
    "fill_dots[num_blocks, num_threads](rng_states, outx, outy)\n",
    "\n",
    "fig, ax = plt.subplots(figsize=(5, 5))\n",
    "ax.scatter(outx.get(), outy.get(), marker=\".\");"
   ]
  },
  {
   "cell_type": "markdown",
   "id": "d9237d79-6f0f-46d8-baf0-dce03a4c4ca0",
   "metadata": {},
   "source": [
    "Now let's introduce the circle constraint."
   ]
  },
  {
   "cell_type": "code",
   "execution_count": null,
   "id": "575308af-25fa-4951-8499-a2690c143d55",
   "metadata": {},
   "outputs": [],
   "source": [
    "@nb.cuda.jit\n",
    "def fill_dots_circle(rng_states, outx, outy):\n",
    "    thread_idx = nb.cuda.grid(1)\n",
    "    x = xoroshiro128p_uniform_float32(rng_states, thread_idx)\n",
    "    y = xoroshiro128p_uniform_float32(rng_states, thread_idx)\n",
    "    if x**2 + y**2 < 1:\n",
    "        outx[thread_idx] = x\n",
    "        outy[thread_idx] = y"
   ]
  },
  {
   "cell_type": "markdown",
   "id": "c657d6c9-daad-447f-a467-afe29a9e22f1",
   "metadata": {},
   "source": [
    "With enough points, the cookie-cutter should carve out an obvious line."
   ]
  },
  {
   "cell_type": "code",
   "execution_count": null,
   "id": "218b73e3-2e9d-4aee-8209-2280f2d08440",
   "metadata": {},
   "outputs": [],
   "source": [
    "num_threads = 1024\n",
    "num_blocks = 1\n",
    "\n",
    "rng_states = create_xoroshiro128p_states(num_threads * num_blocks, seed=starting_seed())\n",
    "\n",
    "outx = cp.zeros(num_threads * num_blocks, dtype=np.float32)\n",
    "outy = cp.zeros(num_threads * num_blocks, dtype=np.float32)\n",
    "\n",
    "fill_dots_circle[num_blocks, num_threads](rng_states, outx, outy)\n",
    "\n",
    "fig, ax = plt.subplots(figsize=(5, 5))\n",
    "ax.scatter(outx.get(), outy.get(), marker=\".\");"
   ]
  },
  {
   "cell_type": "markdown",
   "id": "d650349d-1a89-42c6-926a-602cb949aeb2",
   "metadata": {},
   "source": [
    "The problem now is that we're only looking at a quarter of the circle. The `xoroshiro128p_uniform_float32` function generates numbers from $0$ to $1$, but a circle of radius $1$ centered on the origin covers an area that goes from $-1$ to $1$.\n",
    "\n",
    "We could just use this, calculate $\\frac{\\pi}{4}$ and then multiply by $4$, but if we use it without recognizing that the area is different, we would get the wrong answer by a factor of $4$.\n",
    "\n",
    "(This, by the way, is why we start with a problem whose answer we know. Even if our only goal is to compute the area of the Mandelbroit set, we should start with a circle to be sure we're oriented correctly.)"
   ]
  },
  {
   "cell_type": "code",
   "execution_count": null,
   "id": "c8dfdf98-2e96-46da-9ba0-d496650aba4d",
   "metadata": {},
   "outputs": [],
   "source": [
    "@nb.cuda.jit\n",
    "def fill_dots_circle_whole_area(rng_states, outx, outy):\n",
    "    thread_idx = nb.cuda.grid(1)\n",
    "    x = xoroshiro128p_uniform_float32(rng_states, thread_idx)*2 - 1\n",
    "    y = xoroshiro128p_uniform_float32(rng_states, thread_idx)*2 - 1\n",
    "    if x**2 + y**2 < 1:\n",
    "        outx[thread_idx] = x\n",
    "        outy[thread_idx] = y"
   ]
  },
  {
   "cell_type": "markdown",
   "id": "5d86a448-d8b2-443d-b4d6-b3a7cb781c1d",
   "metadata": {},
   "source": [
    "Here comes the sun!"
   ]
  },
  {
   "cell_type": "code",
   "execution_count": null,
   "id": "147bd18a-09cf-474f-9a0c-11913cbd0b5c",
   "metadata": {},
   "outputs": [],
   "source": [
    "num_threads = 1024\n",
    "num_blocks = 5\n",
    "\n",
    "rng_states = create_xoroshiro128p_states(num_threads * num_blocks, seed=starting_seed())\n",
    "\n",
    "outx = cp.zeros(num_threads * num_blocks, dtype=np.float32)\n",
    "outy = cp.zeros(num_threads * num_blocks, dtype=np.float32)\n",
    "\n",
    "fill_dots_circle_whole_area[num_blocks, num_threads](rng_states, outx, outy)\n",
    "\n",
    "fig, ax = plt.subplots(figsize=(5, 5))\n",
    "ax.scatter(outx.get(), outy.get(), marker=\".\");"
   ]
  },
  {
   "cell_type": "markdown",
   "id": "914e85c1-bfa5-4b7b-8254-9e59b6e1fcff",
   "metadata": {},
   "source": [
    "<br><br><br><br><br>"
   ]
  },
  {
   "cell_type": "markdown",
   "id": "8c6a7ccf-750d-4a54-9c81-235e0b6335e4",
   "metadata": {},
   "source": [
    "### Strategy for solving the problem"
   ]
  },
  {
   "cell_type": "markdown",
   "id": "f5d31a0b-4b31-4d76-9179-46888afdff92",
   "metadata": {},
   "source": [
    "Now we just have to count how many points fall within the circle.\n",
    "\n",
    "We could use the tree-reduction technique from the previous exercise, but that's built into `cp.sum`."
   ]
  },
  {
   "cell_type": "code",
   "execution_count": null,
   "id": "c2c00284-6975-47b2-aaa0-c6512f5c80e5",
   "metadata": {},
   "outputs": [],
   "source": [
    "num_selected = cp.sum(outx != 0)\n",
    "assert num_selected == cp.sum(outy != 0)\n",
    "num_selected"
   ]
  },
  {
   "cell_type": "markdown",
   "id": "96ee1ceb-1fbf-45a9-a66f-34296f044851",
   "metadata": {},
   "source": [
    "The number of points that were generated is"
   ]
  },
  {
   "cell_type": "code",
   "execution_count": null,
   "id": "b10005e4-ef19-44ae-8f50-4dc16d9f35fe",
   "metadata": {},
   "outputs": [],
   "source": [
    "num_total = num_threads * num_blocks\n",
    "num_total"
   ]
  },
  {
   "cell_type": "markdown",
   "id": "da30ce46-ebff-45ca-9045-94ee62579427",
   "metadata": {},
   "source": [
    "So this is the fraction that passed the selection (must be between 0 and 1):"
   ]
  },
  {
   "cell_type": "code",
   "execution_count": null,
   "id": "6574ce55-ce9b-42d7-9019-b031f47b2e15",
   "metadata": {},
   "outputs": [],
   "source": [
    "num_selected / num_total"
   ]
  },
  {
   "cell_type": "markdown",
   "id": "f62dc158-5765-43d6-b602-497ba0990455",
   "metadata": {},
   "source": [
    "That's also the fraction of area the circle covers, out of the area that was generated.\n",
    "\n",
    "The area that was generated was $(1 - -1)^2 = 4$ because we stretched both the generated $x$ to $(-1, 1)$ and the generated $y$ to $(-1, 1)$.\n",
    "\n",
    "So the area that the circle covers is"
   ]
  },
  {
   "cell_type": "code",
   "execution_count": null,
   "id": "81141721-6c33-4403-adbb-230255d37337",
   "metadata": {},
   "outputs": [],
   "source": [
    "4 * num_selected / num_total"
   ]
  },
  {
   "cell_type": "markdown",
   "id": "83f8010b-1165-49d1-a313-dc2b5b42d3f7",
   "metadata": {},
   "source": [
    "It's already looking like π. The area of a circle is $A = \\pi r^2$ and this radius $r = 1$, so this value _should_ be π.\n",
    "\n",
    "Now we just want to scale it up and get more precision."
   ]
  },
  {
   "cell_type": "markdown",
   "id": "40dd9cbb-c3e8-4061-b718-ce8839e86261",
   "metadata": {},
   "source": [
    "<br><br><br><br><br>"
   ]
  },
  {
   "cell_type": "markdown",
   "id": "8a483869-5651-432e-8813-da75c7f98fd8",
   "metadata": {},
   "source": [
    "### Choosing the grid size"
   ]
  },
  {
   "cell_type": "markdown",
   "id": "fec2710f-c743-4c37-a47e-71b8c3819a1e",
   "metadata": {},
   "source": [
    "Since this problem does not have input data, our only constraints on the number of blocks and threads per block are\n",
    "\n",
    "* we want to fill all of the available processors (more is better),\n",
    "* each thread must get a distinct random number seed and must have a distinct output to avoid using atomics (fewer is better)."
   ]
  },
  {
   "cell_type": "markdown",
   "id": "d2bda563-f3ca-49c7-95ec-7c53680e1cdb",
   "metadata": {},
   "source": [
    "The number of threads per block should saturate each block."
   ]
  },
  {
   "cell_type": "code",
   "execution_count": null,
   "id": "90ab749f-e295-4bc0-8f95-7edb23662c62",
   "metadata": {},
   "outputs": [],
   "source": [
    "num_threads = cp.cuda.Device(0).attributes[\"MaxThreadsPerBlock\"]\n",
    "num_threads"
   ]
  },
  {
   "cell_type": "markdown",
   "id": "6a0796be-09f1-4553-8c94-4f8357f83857",
   "metadata": {},
   "source": [
    "The number of blocks should at least exceed the number of multiprocessors, while being small enough to not waste time generating seeds."
   ]
  },
  {
   "cell_type": "code",
   "execution_count": null,
   "id": "c73325aa-280d-4973-89bb-202cddb9b7d2",
   "metadata": {},
   "outputs": [],
   "source": [
    "cp.cuda.Device(0).attributes[\"MultiProcessorCount\"]"
   ]
  },
  {
   "cell_type": "markdown",
   "id": "00cef012-6b46-4124-a7bb-0920a5bd26ac",
   "metadata": {},
   "source": [
    "How about"
   ]
  },
  {
   "cell_type": "code",
   "execution_count": null,
   "id": "86698c3a-6a65-448b-bf0d-7c281712bf88",
   "metadata": {},
   "outputs": [],
   "source": [
    "num_blocks = 1024"
   ]
  },
  {
   "cell_type": "markdown",
   "id": "819ad630-123d-44ca-94f5-e4a227572c0a",
   "metadata": {},
   "source": [
    "<br><br><br><br><br>"
   ]
  },
  {
   "cell_type": "markdown",
   "id": "4a8fa0b1-7f14-41c2-9895-d11f113f03d6",
   "metadata": {},
   "source": [
    "### Writing a kernel that counts"
   ]
  },
  {
   "cell_type": "markdown",
   "id": "7cf7a211-986e-4fda-b36f-f34a5a18cd99",
   "metadata": {},
   "source": [
    "The previous kernels were intended to display the randomly generated points, so we had each kernel output those values. Our intention now is just to count how many pass the selection, so we can output an integer instead.\n",
    "\n",
    "We're only interested in the total number, so we might be tempted to make a length-1 array and have each thread increment it. But as we learned earlier in this course, threads updating the same value in parallel can garble it, so it would at least need to be an atomic integer to be valid. Even then, an atomic output would be very slow because every thread would want to increment it at the same time.\n",
    "\n",
    "Instead, we'll make a `num_in_set` array of integers, with one index position for each thread. We'll add them up later."
   ]
  },
  {
   "cell_type": "code",
   "execution_count": null,
   "id": "f96ab074-1b42-4390-b8ec-209284e4df0f",
   "metadata": {},
   "outputs": [],
   "source": [
    "@nb.cuda.jit\n",
    "def count_circle(rng_states, num_in_set):\n",
    "    thread_idx = nb.cuda.grid(1)\n",
    "    x = xoroshiro128p_uniform_float32(rng_states, thread_idx)*2 - 1\n",
    "    y = xoroshiro128p_uniform_float32(rng_states, thread_idx)*2 - 1\n",
    "    if x**2 + y**2 < 1:\n",
    "        num_in_set[thread_idx] += 1\n",
    "\n",
    "rng_states = create_xoroshiro128p_states(num_threads * num_blocks, seed=starting_seed())\n",
    "\n",
    "num_in_set = cp.zeros(num_threads * num_blocks, dtype=np.int32)\n",
    "\n",
    "count_circle[num_blocks, num_threads](rng_states, num_in_set)"
   ]
  },
  {
   "cell_type": "markdown",
   "id": "02c825a0-7ff7-446f-9798-009ca6061a08",
   "metadata": {},
   "source": [
    "If an $x$, $y$ pair was within the circle, its `num_in_set[thread_idx]` was incremented to 1; otherwise, it was left at its initial value of 0.\n",
    "\n",
    "Verify that those are the only values in this array (to catch mistakes due to not initializing)."
   ]
  },
  {
   "cell_type": "code",
   "execution_count": null,
   "id": "7ad41eb1-7024-4ad2-8981-b14c1020ab9e",
   "metadata": {},
   "outputs": [],
   "source": [
    "num_in_set.min(), num_in_set.max()"
   ]
  },
  {
   "cell_type": "markdown",
   "id": "7c109501-fcad-4ab5-9701-aa00d8b4dfb2",
   "metadata": {},
   "source": [
    "Now apply the same strategy as in the previous section."
   ]
  },
  {
   "cell_type": "code",
   "execution_count": null,
   "id": "90d8a10a-a681-4997-88a4-a5c4a5ac9c50",
   "metadata": {},
   "outputs": [],
   "source": [
    "num_selected = num_in_set.sum()\n",
    "num_total = num_threads * num_blocks\n",
    "\n",
    "4 * num_selected / num_total"
   ]
  },
  {
   "cell_type": "markdown",
   "id": "c7ef219e-b042-4d87-bf68-b9c4af2ecb00",
   "metadata": {},
   "source": [
    "It's π!"
   ]
  },
  {
   "cell_type": "markdown",
   "id": "bc36ae1f-1ff1-4748-b25a-1a99451e2e39",
   "metadata": {},
   "source": [
    "<br><br><br><br><br>"
   ]
  },
  {
   "cell_type": "markdown",
   "id": "8bab8d3b-c2c6-4380-9af6-7bf283bcb2e1",
   "metadata": {},
   "source": [
    "### Scaling up"
   ]
  },
  {
   "cell_type": "markdown",
   "id": "1befecbf-28b8-451e-bf65-7e409c1d0f66",
   "metadata": {},
   "source": [
    "To run this algorithm on more trials, we _could_ increase the number of blocks.\n",
    "\n",
    "However, more independent threads would require more random seeds, and it's a waste of resources for each random seed to only be used once. (All of the time would go into generating seeds—just setting up—and not running the algorithm at scale.)\n",
    "\n",
    "So if we want `num_total_trials > num_threads * num_blocks`, how about a `for` loop inside the kernel?\n",
    "\n",
    "The following solution only works if `num_total_trials` is an integer multiple of `num_threads * num_blocks`, but we can accept that in our scale-up plot, rather than make the kernel more complicated."
   ]
  },
  {
   "cell_type": "code",
   "execution_count": null,
   "id": "35c59255-7dc2-4f21-9392-a8691c8084d0",
   "metadata": {},
   "outputs": [],
   "source": [
    "@nb.cuda.jit\n",
    "def count_circle_many_times(rng_states, num_trials, num_in_set):\n",
    "    thread_idx = nb.cuda.grid(1)\n",
    "    for _ in range(num_trials):\n",
    "        x = xoroshiro128p_uniform_float32(rng_states, thread_idx)*2 - 1\n",
    "        y = xoroshiro128p_uniform_float32(rng_states, thread_idx)*2 - 1\n",
    "        if x**2 + y**2 < 1:\n",
    "            num_in_set[thread_idx] += 1\n",
    "\n",
    "def compute_π(num_total_trials, seed):\n",
    "    num_threads = 1024\n",
    "    num_blocks = 1024\n",
    "    num_trials = num_total_trials // (num_threads * num_blocks)\n",
    "    assert num_trials > 0\n",
    "    assert num_trials * num_threads * num_blocks == num_total_trials\n",
    "\n",
    "    rng_states = create_xoroshiro128p_states(num_threads * num_blocks, seed=seed)\n",
    "    num_in_set = cp.zeros(num_threads * num_blocks, dtype=np.int32)\n",
    "\n",
    "    count_circle_many_times[num_blocks, num_threads](rng_states, num_trials, num_in_set)\n",
    "\n",
    "    return float(4 * num_in_set.sum() / num_total_trials)"
   ]
  },
  {
   "cell_type": "code",
   "execution_count": null,
   "id": "ae1ee07a-f23e-4326-8771-8656ca51a536",
   "metadata": {},
   "outputs": [],
   "source": [
    "compute_π(10 * 1024**2, starting_seed())"
   ]
  },
  {
   "cell_type": "markdown",
   "id": "63694fe3-fa9d-4324-9b6e-2ff13a4bdbfd",
   "metadata": {},
   "source": [
    "Now let's see how it approaches π as `num_total_trials` increases.\n",
    "\n",
    "(If $1024^2$ bytes is called a \"mebibyte,\" then I can call the number $1024^2$ a \"mebiyon.\")"
   ]
  },
  {
   "cell_type": "code",
   "execution_count": null,
   "id": "8944d69f-16a7-477b-a0a0-a8c81dc588e0",
   "metadata": {},
   "outputs": [],
   "source": [
    "n_mebiyon = [1, 2, 5, 10, 20, 50, 100, 200, 500, 1000, 2000, 5000, 10000]\n",
    "results = []\n",
    "for n in n_mebiyon:\n",
    "    print(f\"{n} mebiyon trials\")\n",
    "    results.append(compute_π(n * 1024**2, starting_seed()))"
   ]
  },
  {
   "cell_type": "code",
   "execution_count": null,
   "id": "e8c7fd33-e6f2-4a10-bd1f-2e6026e37b19",
   "metadata": {},
   "outputs": [],
   "source": [
    "fig, ax = plt.subplots(figsize=(7, 5))\n",
    "\n",
    "ax.plot([n_mebiyon[0], n_mebiyon[-1]], [np.pi, np.pi], label=\"truth\")\n",
    "ax.plot(n_mebiyon, results, marker=\".\", label=\"calculated\")\n",
    "\n",
    "ax.set_xlabel(\"n mebiyon trials\")\n",
    "ax.set_ylabel(\"results\")\n",
    "ax.set_xscale(\"log\")\n",
    "ax.legend();"
   ]
  },
  {
   "cell_type": "markdown",
   "id": "00b6a3ce-2e3c-420d-910d-657956a1deee",
   "metadata": {},
   "source": [
    "Play around with that. How does the computation time scale? Is there anything you can do to reduce it? (Computationally in the problem space or technically in the hardware?)"
   ]
  },
  {
   "cell_type": "markdown",
   "id": "66abed30-cdba-4aea-bc0a-cd5903855f6e",
   "metadata": {},
   "source": [
    "<br><br><br><br><br>"
   ]
  },
  {
   "cell_type": "markdown",
   "id": "827a8e50-e6d1-4b4d-ba2d-82b3a2b38c02",
   "metadata": {},
   "source": [
    "## Computing the area of the Mandelbrot set"
   ]
  },
  {
   "cell_type": "markdown",
   "id": "5a6cf530-cfd1-4b69-b7ec-aebca92e9c1a",
   "metadata": {},
   "source": [
    "As described in the problem statement, we can determine if a pair of real values $x$, $y$ are in the Mandelbrot set or not by calling this function."
   ]
  },
  {
   "cell_type": "code",
   "execution_count": null,
   "id": "8685d0ba-e1f1-4ba6-adcc-9817e1dd729c",
   "metadata": {},
   "outputs": [],
   "source": [
    "@nb.cuda.jit(device=True)\n",
    "def is_in_mandelbrot(x, y):\n",
    "    c = np.complex64(x) + np.complex64(y)*np.complex64(1j)\n",
    "    z_hare = z_tortoise = np.complex64(0)\n",
    "    while True:\n",
    "        z_hare = z_hare*z_hare + c\n",
    "        z_hare = z_hare*z_hare + c\n",
    "        z_tortoise = z_tortoise*z_tortoise + c\n",
    "        if z_hare == z_tortoise:\n",
    "            return True      # orbiting or converging to zero\n",
    "        if z_hare.real**2 + z_hare.imag**2 > 4:\n",
    "            return False     # diverging to infinity"
   ]
  },
  {
   "cell_type": "markdown",
   "id": "9aa7a46c-41f7-4e0c-b637-457ba432d299",
   "metadata": {},
   "source": [
    "This is a more interesting version of the area-of-a-circle problem because there _isn't_ a better-known way to determine the area of the Mandelbrot set. Unlike a circle, the edge of this set is very complicated. At least we can tell whether a given point is in it or not.\n",
    "\n",
    "The above algorithm can _potentially_ iterate forever, and if one thread of a warp (group of 32 adjacent threads in CUDA) stalls, all 32 stall. Floyd's \"tortoise and hare\" algorithm identifies when the iterated system \"orbits\" ($z_b = z_a$ for some $b > a$) by iterating two copies of $z_n$, one running twice as fast as the other. With 64-bit precision, this takes much longer because the two values must match exactly. If we simply wanted to _draw_ the Mandelbrot set, we could just cut off the number of iterations at, say, 20, but that cut-off has a measurable effect on the area calculation (much more so than 32-bit versus 64-bit). Using a cut-off would be a more GPU-friendly algorithm, but this one is necessary."
   ]
  },
  {
   "cell_type": "markdown",
   "id": "f77f3752-e82e-4b73-afb7-e246a122047e",
   "metadata": {},
   "source": [
    "<br><br><br><br><br>"
   ]
  },
  {
   "cell_type": "markdown",
   "id": "9dd8eb4a-4d01-4c54-9a1f-76a111e07f95",
   "metadata": {},
   "source": [
    "### Initial exploration"
   ]
  },
  {
   "cell_type": "markdown",
   "id": "a9136826-6369-407a-80f3-915998ed1d29",
   "metadata": {},
   "source": [
    "As with the circle, we should start by visualizing the set to make sure we're correctly generating it and not cutting it off.\n",
    "\n",
    "The test below doesn't use any random number generation; it scans in a grid and puts the output of `is_in_mandelbrot(x, y)` (either 0 or 1) into a 2-dimensional array that we can view as an image."
   ]
  },
  {
   "cell_type": "code",
   "execution_count": null,
   "id": "e8541109-5dfa-4dbc-a4dd-830f479eaa57",
   "metadata": {},
   "outputs": [],
   "source": [
    "@nb.cuda.jit\n",
    "def fill_pixel(pixels, xmin, dx, ymin, dy):\n",
    "    i, j = nb.cuda.grid(2)\n",
    "    if i < pixels.shape[0] and j < pixels.shape[1]:\n",
    "        x = xmin + i*dx\n",
    "        y = ymin + j*dy\n",
    "        pixels[i, j] = is_in_mandelbrot(x, y)\n",
    "\n",
    "xmin, xmax = -2, 1\n",
    "ymin, ymax = -3/2, 3/2\n",
    "\n",
    "pixels = cp.empty((1000, 1000), np.int32)\n",
    "dx = (xmax - xmin) / pixels.shape[0]\n",
    "dy = (ymax - ymin) / pixels.shape[1]\n",
    "\n",
    "num_threads = (32, 32)\n",
    "num_blocks = (int(np.ceil(pixels.shape[0] / 32)), int(np.ceil(pixels.shape[1] / 32)))\n",
    "\n",
    "fill_pixel[num_blocks, num_threads](pixels, xmin, dx, ymin, dy)\n",
    "\n",
    "fig, ax = plt.subplots(figsize=(7, 7))\n",
    "ax.imshow(pixels.get());"
   ]
  },
  {
   "cell_type": "markdown",
   "id": "df52535d-b568-437d-8cc3-a181aca517c3",
   "metadata": {},
   "source": [
    "<br><br><br><br><br>"
   ]
  },
  {
   "cell_type": "markdown",
   "id": "eee6c9d8-139e-4a7e-95c3-0caf14eacb88",
   "metadata": {},
   "source": [
    "### Writing the kernel and the kernel-runner"
   ]
  },
  {
   "cell_type": "markdown",
   "id": "eab986db-1e11-4c31-805d-0987019a4682",
   "metadata": {},
   "source": [
    "Most of the same issues—aligning the figure in the box, random number generation, optimization of CUDA grid—are the same as they were for the circle, so let's jump to the solution."
   ]
  },
  {
   "cell_type": "code",
   "execution_count": null,
   "id": "3b6ce4a0-4610-4ffe-a112-e2ac58184dd3",
   "metadata": {},
   "outputs": [],
   "source": [
    "@nb.cuda.jit\n",
    "def count_mandelbrot_many_times(rng_states, num_trials, num_in_set):\n",
    "    thread_idx = nb.cuda.grid(1)\n",
    "    for _ in range(num_trials):\n",
    "        x = xoroshiro128p_uniform_float32(rng_states, thread_idx)*3 - 2\n",
    "        y = xoroshiro128p_uniform_float32(rng_states, thread_idx)*3 - 3/2\n",
    "        if is_in_mandelbrot(x, y):\n",
    "            num_in_set[thread_idx] += 1\n",
    "\n",
    "def compute_mandelbrot_area(num_total_trials, seed):\n",
    "    num_threads = 1024\n",
    "    num_blocks = 1024\n",
    "    num_trials = num_total_trials // (num_threads * num_blocks)\n",
    "    assert num_trials > 0\n",
    "    assert num_trials * num_threads * num_blocks == num_total_trials\n",
    "\n",
    "    rng_states = create_xoroshiro128p_states(num_threads * num_blocks, seed=seed)\n",
    "    num_in_set = cp.zeros(num_threads * num_blocks, dtype=np.int32)\n",
    "\n",
    "    count_mandelbrot_many_times[num_blocks, num_threads](rng_states, num_trials, num_in_set)\n",
    "\n",
    "    return float(9 * num_in_set.sum() / num_total_trials)"
   ]
  },
  {
   "cell_type": "code",
   "execution_count": null,
   "id": "d57093d3-791b-4c06-ba8b-6cfbddc62474",
   "metadata": {},
   "outputs": [],
   "source": [
    "compute_mandelbrot_area(10 * 1024**2, starting_seed())"
   ]
  },
  {
   "cell_type": "markdown",
   "id": "49a90741-b8ef-4feb-ae6c-11c34f5ca8fe",
   "metadata": {},
   "source": [
    "The most precise, rigorous bounds for the area of the Mandelbrot set are\n",
    "\n",
    "$$1.50640 < \\mbox{area of Mandelbrot set} < 1.53121\\mbox{,}$$\n",
    "\n",
    "but random sampling yields values that are close to the low bound in most of the references. If you got a value close to 1.506, great! If not, run it again—you might be seeing a fluctuation."
   ]
  },
  {
   "cell_type": "markdown",
   "id": "2724d2c9-1786-4836-b501-d14cd3a9fab3",
   "metadata": {},
   "source": [
    "<br><br><br><br><br>"
   ]
  },
  {
   "cell_type": "markdown",
   "id": "c47dd7d3-12ea-49c7-86a9-26f8c3ecc1f6",
   "metadata": {},
   "source": [
    "### Scaling up"
   ]
  },
  {
   "cell_type": "markdown",
   "id": "cce5458e-0112-4b04-8396-a4c2a31e98aa",
   "metadata": {},
   "source": [
    "We're also ready to make the scale-up plot."
   ]
  },
  {
   "cell_type": "code",
   "execution_count": null,
   "id": "a94a802e-eb66-4cd3-8fc5-ed312e8eed77",
   "metadata": {},
   "outputs": [],
   "source": [
    "n_mebiyon = [1, 2, 5, 10, 20, 50, 100, 200, 500, 1000]\n",
    "results = []\n",
    "for n in n_mebiyon:\n",
    "    print(f\"{n} mebiyon trials\")\n",
    "    results.append(compute_mandelbrot_area(n * 1024**2, starting_seed()))"
   ]
  },
  {
   "cell_type": "code",
   "execution_count": null,
   "id": "37272040-7b80-4a1c-b6bc-0b59d7030240",
   "metadata": {},
   "outputs": [],
   "source": [
    "fig, ax = plt.subplots(figsize=(7, 5))\n",
    "\n",
    "ax.plot([n_mebiyon[0], n_mebiyon[-1]], [1.50659] * 2, label=\"Förstemann (2012)\")\n",
    "ax.plot(n_mebiyon[:len(results)], results, marker=\".\", label=\"calculated\")\n",
    "\n",
    "ax.set_xlabel(\"n mebiyon trials\")\n",
    "ax.set_ylabel(\"results\")\n",
    "ax.set_xscale(\"log\")\n",
    "ax.legend();"
   ]
  },
  {
   "cell_type": "markdown",
   "id": "91a74efd-aa78-484d-801a-385901e0e5ad",
   "metadata": {},
   "source": [
    "A lot more care would be needed to turn this into a paper, but it's interesting to note that it wouldn't take much more computational power to narrow the limits on a fundamental quantity in mathematics."
   ]
  }
 ],
 "metadata": {
  "kernelspec": {
   "display_name": "Python 3 (ipykernel)",
   "language": "python",
   "name": "python3"
  },
  "language_info": {
   "codemirror_mode": {
    "name": "ipython",
    "version": 3
   },
   "file_extension": ".py",
   "mimetype": "text/x-python",
   "name": "python",
   "nbconvert_exporter": "python",
   "pygments_lexer": "ipython3",
   "version": "3.10.13"
  }
 },
 "nbformat": 4,
 "nbformat_minor": 5
}
