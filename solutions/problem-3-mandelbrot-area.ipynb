{
 "cells": [
  {
   "cell_type": "code",
   "execution_count": 29,
   "id": "cc6fa46c-8c44-47c2-a38d-5330b5bba536",
   "metadata": {},
   "outputs": [],
   "source": [
    "import os\n",
    "\n",
    "import matplotlib.pyplot as plt\n",
    "import numpy as np\n",
    "import cupy as cp\n",
    "import numba as nb\n",
    "\n",
    "import numba.cuda\n",
    "from numba.cuda.random import create_xoroshiro128p_states, xoroshiro128p_uniform_float32"
   ]
  },
  {
   "cell_type": "code",
   "execution_count": 74,
   "id": "dda3fc91-9f79-431b-915d-1b70158eabb1",
   "metadata": {},
   "outputs": [],
   "source": [
    "@nb.cuda.jit(device=True)\n",
    "def diverges(x, y):\n",
    "    c = np.complex64(x) + np.complex64(y)*np.complex64(1j)\n",
    "    z = np.complex64(0)\n",
    "    for _ in range(20):\n",
    "        z = z*z + c                     # complex z**2 is much slower than z*z\n",
    "        if z.real**2 + z.imag**2 > 4:   # but real-valued **2 is fine\n",
    "            return True\n",
    "    return False"
   ]
  },
  {
   "cell_type": "code",
   "execution_count": 75,
   "id": "436f9bcb-d86d-4035-b83b-782cede3dcff",
   "metadata": {},
   "outputs": [],
   "source": [
    "@nb.cuda.jit\n",
    "def fill_pixel(pixels, xmin, dx, ymin, dy):\n",
    "    i, j = nb.cuda.grid(2)\n",
    "    if i < pixels.shape[0] and j < pixels.shape[1]:\n",
    "        pixels[i, j] = 0 if diverges(xmin + i*dx, ymin + j*dy) else 1"
   ]
  },
  {
   "cell_type": "code",
   "execution_count": 111,
   "id": "81885f00-4430-4e2d-9898-e080a6831b64",
   "metadata": {},
   "outputs": [],
   "source": [
    "xmin, xmax, ymin, ymax = -2, 0.7, -1.2, 1.2\n",
    "\n",
    "pixels = cp.empty((3000, 3000), np.float32)\n",
    "dx = (xmax - xmin) / pixels.shape[0]\n",
    "dy = (ymax - ymin) / pixels.shape[1]\n",
    "\n",
    "fill_pixel[(int(np.ceil(pixels.shape[0] / 32)), int(np.ceil(pixels.shape[1] / 32))), (32, 32)](pixels, xmin, dx, ymin, dy)"
   ]
  },
  {
   "cell_type": "code",
   "execution_count": null,
   "id": "b0fbbc9e-42e7-4a7e-bfa0-f6eb4a3eba5c",
   "metadata": {},
   "outputs": [],
   "source": [
    "fix, ax = plt.subplots(figsize=(10, 10))\n",
    "ax.imshow(pixels.get());"
   ]
  },
  {
   "cell_type": "code",
   "execution_count": 145,
   "id": "a7c048c7-30ac-46f1-8d2a-6358df1af8d0",
   "metadata": {},
   "outputs": [],
   "source": [
    "@nb.cuda.jit\n",
    "def count_members(rng_states, num_trials, num_in_set):\n",
    "    thread_idx = nb.cuda.grid(1)\n",
    "    for _ in range(num_trials):\n",
    "        x = xoroshiro128p_uniform_float32(rng_states, thread_idx)*2 - 1\n",
    "        y = xoroshiro128p_uniform_float32(rng_states, thread_idx)*2 - 1\n",
    "        if x**2 + y**2 < 1:\n",
    "            num_in_set[thread_idx] += 1"
   ]
  },
  {
   "cell_type": "code",
   "execution_count": 150,
   "id": "3e52e7d6-be24-4c5c-a7c6-12271df3fbc0",
   "metadata": {},
   "outputs": [],
   "source": [
    "def area(num_total_trials):\n",
    "    num_threads = 1024\n",
    "    num_blocks = 1024\n",
    "    num_trials = num_total_trials // (num_threads * num_blocks)\n",
    "    assert num_trials > 0\n",
    "    assert num_trials * num_threads * num_blocks == num_total_trials\n",
    "\n",
    "    starting_seed = np.frombuffer(os.urandom(8), dtype=np.int64)[0]\n",
    "    rng_states = create_xoroshiro128p_states(num_threads * num_blocks, seed=starting_seed)\n",
    "\n",
    "    num_in_set = cp.zeros(num_threads * num_blocks, dtype=np.uint64)\n",
    "\n",
    "    count_members[num_blocks, num_threads](rng_states, num_trials, num_in_set)\n",
    "\n",
    "    fraction_of_area = num_in_set.sum() / num_total_trials\n",
    "    return fraction_of_area"
   ]
  },
  {
   "cell_type": "code",
   "execution_count": 151,
   "id": "0a983ecf-1714-407f-9996-8a82efc429da",
   "metadata": {},
   "outputs": [
    {
     "data": {
      "text/plain": [
       "array(0.7854041)"
      ]
     },
     "execution_count": 151,
     "metadata": {},
     "output_type": "execute_result"
    }
   ],
   "source": [
    "area(100*1024**2)"
   ]
  },
  {
   "cell_type": "code",
   "execution_count": null,
   "id": "ad07a4c5-4849-4bcc-ae1b-bf8fccc3cb35",
   "metadata": {},
   "outputs": [],
   "source": []
  }
 ],
 "metadata": {
  "kernelspec": {
   "display_name": "Python 3 (ipykernel)",
   "language": "python",
   "name": "python3"
  },
  "language_info": {
   "codemirror_mode": {
    "name": "ipython",
    "version": 3
   },
   "file_extension": ".py",
   "mimetype": "text/x-python",
   "name": "python",
   "nbconvert_exporter": "python",
   "pygments_lexer": "ipython3",
   "version": "3.10.13"
  }
 },
 "nbformat": 4,
 "nbformat_minor": 5
}
