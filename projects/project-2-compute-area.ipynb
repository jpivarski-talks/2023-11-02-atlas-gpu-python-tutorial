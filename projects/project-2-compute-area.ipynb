{
 "cells": [
  {
   "cell_type": "markdown",
   "id": "8f372b51-4f6b-4af6-a58f-dff84dfb117f",
   "metadata": {},
   "source": [
    "# Project 2: computing area by random sampling"
   ]
  },
  {
   "cell_type": "markdown",
   "id": "b3517747-37bc-447c-8051-7d48a9a4bf56",
   "metadata": {},
   "source": [
    "## Problem statement"
   ]
  },
  {
   "cell_type": "markdown",
   "id": "ea29fcb5-eae4-4592-828d-e7d0b6f4324d",
   "metadata": {},
   "source": [
    "**Goal:** Sample random number pairs $x \\in (-1, 1)$, $y \\in (-1, 1)$ with a uniform distribution to compute the area of a circle with radius $r = 1$. Then use the area $A = \\pi r^2$ formula to derive $\\pi$.\n",
    "\n",
    "* How does the accuracy depend on number of sampled pairs?\n",
    "* What about the computation time?\n",
    "\n",
    "**Stretch goal:** Use the same technique to compute the area of the Mandelbrot set. The Mandelbrot set is the set of complex numbers $c \\in \\Bbb{C}$ such that the sequence $z_0 = 0$, $z_{n+1} = {z_n}^2 + c$ does not diverge to infinity as $n \\to \\infty$.\n",
    "\n",
    "The following CUDA device function identifies whether a point $c = x + y\\,i$ ($x \\in \\Bbb{R}$, $y \\in \\Bbb{R}$, $i = \\sqrt{-1}$) is in the Mandelbrot set, using [Floyd's algorithm](https://en.wikipedia.org/wiki/Cycle_detection#Floyd's_tortoise_and_hare) to detect cycles and convergence to zero.\n",
    "\n",
    "```python\n",
    "@nb.cuda.jit(device=True)\n",
    "def is_in_mandelbrot(x, y):\n",
    "    c = np.complex64(x) + np.complex64(y)*np.complex64(1j)\n",
    "    z_hare = z_tortoise = np.complex64(0)\n",
    "    while True:\n",
    "        z_hare = z_hare*z_hare + c\n",
    "        z_hare = z_hare*z_hare + c\n",
    "        z_tortoise = z_tortoise*z_tortoise + c\n",
    "        if z_hare == z_tortoise:\n",
    "            return True      # orbiting or converging to zero\n",
    "        if z_hare.real**2 + z_hare.imag**2 > 4:\n",
    "            return False     # diverging to infinity\n",
    "```\n",
    "\n",
    "You can assume that the Mandelbrot set is entirely contained within $x \\in (-2, 1)$, $y \\in (-\\frac{3}{2}, \\frac{3}{2})$, which has area $9$ (see [[Knill (2023)](https://doi.org/10.48550/arXiv.2305.17848)], section 4.7).\n",
    "\n",
    "The exact area of the Mandelbrot set is not known, mathematically. There is an expression,\n",
    "\n",
    "$$\\mbox{area of Mandelbrot set} = \\pi \\left( 1 - \\sum_{n=1}^\\infty n \\, {b_n}^2 \\right)$$\n",
    "\n",
    "in which the terms $b_n$ can be determined recursively, but it converges very slowly: $10^{118}$ terms are needed to get the first 2 digits, and $10^{1181}$ terms are needed to get 3 digits [[Ewing & Schober (1992)](https://doi.org/10.1007/BF01385497)]. The best estimates of the Mandelbrot set's area come from sampling techniques like this one. The most recent publication is [[Bittner, Cheong, Gates, & Nguyen (2012)](https://doi.org/10.2140/involve.2017.10.555)] and the most recent unpublished estimate is [[Förstemann (2017)](https://www.foerstemann.name/labor.html)] using 2× Radeon HD 5970 and a tree-splitting (rather than random) search. The most precise, rigorous bounds to date are\n",
    "\n",
    "$$1.50640 < \\mbox{area of Mandelbrot set} < 1.53121\\mbox{.}$$\n",
    "\n",
    "If you're interested in this sort of thing, Robert Munafo wrote a [rabbit warren of hyperlinked pages](http://www.mrob.com/pub/muency/areaofthemandelbrotset.html) about all of the techniques in 2003, from a [Usenet thread (alt.fractals)](https://ics.uci.edu/~eppstein/junkyard/mand-area.html) that started exactly 5 days after the [first release of Python (alt.sources)](https://www.tuhs.org/Usenet/alt.sources/1991-February/001749.html). Weird, huh?"
   ]
  },
  {
   "cell_type": "code",
   "execution_count": null,
   "id": "5f089ac8-c2be-4517-b62a-5712f639681f",
   "metadata": {},
   "outputs": [],
   "source": [
    "import matplotlib.pyplot as plt\n",
    "import numpy as np\n",
    "import cupy as cp\n",
    "import numba.cuda\n",
    "import numba as nb"
   ]
  },
  {
   "cell_type": "markdown",
   "id": "a7058b95-2422-4034-9116-e425962c14ad",
   "metadata": {},
   "source": [
    "<br><br><br><br><br>"
   ]
  },
  {
   "cell_type": "markdown",
   "id": "0cf2e3e9-695c-4751-a994-40372bf4c59c",
   "metadata": {},
   "source": [
    "## Participation"
   ]
  },
  {
   "cell_type": "code",
   "execution_count": 1,
   "id": "417076ce-5a26-4742-8feb-d7455f9e37cb",
   "metadata": {},
   "outputs": [
    {
     "data": {
      "text/html": [
       "<!-- This will only work on the day of the live tutorial, November 2, 2023. -->\n",
       "<div style=\"overflow: hidden;\"><iframe src=\"https://app.sli.do/event/qZSuEE7Mv7EGrreMVmoAeq/embed/polls/46174ae7-ba0d-42fa-aaf1-e17091eedb43\" width=\"100%\" height=\"280\" scrolling=\"no\" style=\"border: none;\"></div>\n"
      ],
      "text/plain": [
       "<IPython.core.display.HTML object>"
      ]
     },
     "metadata": {},
     "output_type": "display_data"
    }
   ],
   "source": [
    "%%html\n",
    "<!-- This will only work on the day of the live tutorial, November 2, 2023. -->\n",
    "<div style=\"overflow: hidden;\"><iframe src=\"https://app.sli.do/event/qZSuEE7Mv7EGrreMVmoAeq/embed/polls/46174ae7-ba0d-42fa-aaf1-e17091eedb43\" width=\"100%\" height=\"280\" scrolling=\"no\" style=\"border: none;\"></div>"
   ]
  },
  {
   "cell_type": "markdown",
   "id": "928dd654-7639-4f73-87bb-d100f19f830b",
   "metadata": {},
   "source": [
    "## Your work goes here!"
   ]
  },
  {
   "cell_type": "code",
   "execution_count": null,
   "id": "13740306-7975-4ff2-886e-74da592b350e",
   "metadata": {},
   "outputs": [],
   "source": []
  }
 ],
 "metadata": {
  "kernelspec": {
   "display_name": "Python 3 (ipykernel)",
   "language": "python",
   "name": "python3"
  },
  "language_info": {
   "codemirror_mode": {
    "name": "ipython",
    "version": 3
   },
   "file_extension": ".py",
   "mimetype": "text/x-python",
   "name": "python",
   "nbconvert_exporter": "python",
   "pygments_lexer": "ipython3",
   "version": "3.10.13"
  }
 },
 "nbformat": 4,
 "nbformat_minor": 5
}
